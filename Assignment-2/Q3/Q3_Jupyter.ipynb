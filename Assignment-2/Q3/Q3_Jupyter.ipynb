{
 "cells": [
  {
   "cell_type": "code",
   "execution_count": 799,
   "metadata": {},
   "outputs": [],
   "source": [
    "import cv2\n",
    "import numpy as np\n",
    "import matplotlib.pyplot as plt"
   ]
  },
  {
   "cell_type": "code",
   "execution_count": 800,
   "metadata": {},
   "outputs": [],
   "source": [
    "def show_image(image):\n",
    "    image_rgb = cv2.cvtColor(image, cv2.COLOR_BGR2RGB)\n",
    "    fig = plt.figure(frameon=False)\n",
    "    plt.imshow(image_rgb)\n",
    "    plt.axis('off')\n",
    "    plt.tight_layout()\n",
    "    plt.show()\n",
    "    "
   ]
  },
  {
   "cell_type": "code",
   "execution_count": 802,
   "metadata": {},
   "outputs": [],
   "source": [
    "def solution(image_path):\n",
    "    ############################\n",
    "    ############################\n",
    "    image= cv2.imread(image_path)\n",
    "    # show_image(image)\n",
    "    gray = cv2.cvtColor(image, cv2.COLOR_BGR2GRAY)\n",
    "    gray = cv2.bitwise_not(gray)\n",
    "    _, thresh = cv2.threshold(gray, 20, 255, cv2.THRESH_BINARY)\n",
    "    thresh=Closing(thresh)\n",
    "    # show_image(thresh)\n",
    "    \n",
    "    temp = bding_rect(image.copy(),thresh)\n",
    "    if(temp == None):\n",
    "        return 'fake'\n",
    "    img,thresh = temp  \n",
    "\n",
    "    # show_image(img)\n",
    "    # show_image(thresh)\n",
    "\n",
    "    fir,las = non_zero(thresh[-2,:])\n",
    "    mid = round(img.shape[1]/((las+fir)//2),3) \n",
    "    asp_rat = round(img.shape[1]/img.shape[0],3)\n",
    "    # print(\"mid\",mid)\n",
    "    # print(\"white\", dist_white(img[-2,fir+1]))\n",
    "\n",
    "    rav = \"north\" if dist_white(img[-5,fir+5]) <200 else \"south\"\n",
    "\n",
    "    ideal_asp_rat_south = 2.124\n",
    "    ideal_asp_rat_north = 1.637\n",
    "\n",
    "    ideal_mid_south = 2.138\n",
    "    ideal_mid_north = 2.13\n",
    "\n",
    "    if rav==\"south\":\n",
    "        # print(\"mid\", abs(mid-ideal_mid_south))\n",
    "        # print(\"asp\", abs(asp_rat-ideal_asp_rat_south))\n",
    "        if(abs(mid-ideal_mid_south)>0.15 or abs(asp_rat-ideal_asp_rat_south)>0.12):\n",
    "            return\"fake\"\n",
    "    else:\n",
    "        # print(\"mid\", abs(mid-ideal_mid_north))\n",
    "        # print(\"asp\", abs(asp_rat-ideal_asp_rat_north))\n",
    "        if(abs(mid-ideal_mid_north)>0.12 or abs(asp_rat-ideal_asp_rat_north)>0.7):\n",
    "            return\"fake\"\n",
    "\n",
    "    \n",
    "    \n",
    "\n",
    "    ############################\n",
    "    ############################\n",
    "    ## comment the line below before submitting else your code wont be executed##\n",
    "    # pass\n",
    "    return \"real\"\n",
    "\n"
   ]
  },
  {
   "cell_type": "code",
   "execution_count": 803,
   "metadata": {},
   "outputs": [
    {
     "name": "stdout",
     "output_type": "stream",
     "text": [
      "real\n"
     ]
    }
   ],
   "source": [
    "print(solution('test/r1.jpg'))"
   ]
  },
  {
   "cell_type": "code",
   "execution_count": 804,
   "metadata": {},
   "outputs": [
    {
     "name": "stdout",
     "output_type": "stream",
     "text": [
      "fake\n"
     ]
    }
   ],
   "source": [
    "print(solution('test/r2.jpg'))"
   ]
  },
  {
   "cell_type": "code",
   "execution_count": 805,
   "metadata": {},
   "outputs": [
    {
     "name": "stdout",
     "output_type": "stream",
     "text": [
      "fake\n"
     ]
    }
   ],
   "source": [
    "print(solution('test/r3.jpg'))"
   ]
  },
  {
   "cell_type": "code",
   "execution_count": 806,
   "metadata": {},
   "outputs": [
    {
     "name": "stdout",
     "output_type": "stream",
     "text": [
      "real\n"
     ]
    }
   ],
   "source": [
    "print(solution('test/r4.jpg'))"
   ]
  },
  {
   "cell_type": "code",
   "execution_count": 807,
   "metadata": {},
   "outputs": [
    {
     "name": "stdout",
     "output_type": "stream",
     "text": [
      "real\n"
     ]
    }
   ],
   "source": [
    "print(solution('test/r5.jpg'))"
   ]
  },
  {
   "cell_type": "code",
   "execution_count": 808,
   "metadata": {},
   "outputs": [
    {
     "name": "stdout",
     "output_type": "stream",
     "text": [
      "fake\n"
     ]
    }
   ],
   "source": [
    "print(solution('test/r6.jpg'))"
   ]
  },
  {
   "cell_type": "code",
   "execution_count": 809,
   "metadata": {},
   "outputs": [
    {
     "name": "stdout",
     "output_type": "stream",
     "text": [
      "fake\n"
     ]
    }
   ],
   "source": [
    "print(solution('test/r13.jpg'))"
   ]
  },
  {
   "cell_type": "code",
   "execution_count": 810,
   "metadata": {},
   "outputs": [
    {
     "name": "stdout",
     "output_type": "stream",
     "text": [
      "real\n"
     ]
    }
   ],
   "source": [
    "print(solution('test/r15.jpg'))"
   ]
  }
 ],
 "metadata": {
  "kernelspec": {
   "display_name": "EE604_Assignment_venv",
   "language": "python",
   "name": "python3"
  },
  "language_info": {
   "codemirror_mode": {
    "name": "ipython",
    "version": 3
   },
   "file_extension": ".py",
   "mimetype": "text/x-python",
   "name": "python",
   "nbconvert_exporter": "python",
   "pygments_lexer": "ipython3",
   "version": "3.12.0"
  }
 },
 "nbformat": 4,
 "nbformat_minor": 2
}
