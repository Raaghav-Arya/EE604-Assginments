{
 "cells": [
  {
   "cell_type": "code",
   "execution_count": null,
   "metadata": {},
   "outputs": [],
   "source": [
    "import cv2\n",
    "import numpy as np\n",
    "import matplotlib.pyplot as plt"
   ]
  },
  {
   "cell_type": "code",
   "execution_count": null,
   "metadata": {},
   "outputs": [],
   "source": [
    "def show_image(image):\n",
    "    image_rgb = cv2.cvtColor(image, cv2.COLOR_BGR2RGB)\n",
    "    fig = plt.figure(frameon=False)\n",
    "    plt.imshow(image_rgb)\n",
    "    plt.axis('off')\n",
    "    plt.tight_layout()\n",
    "    plt.show()\n",
    "    "
   ]
  },
  {
   "cell_type": "code",
   "execution_count": null,
   "metadata": {},
   "outputs": [],
   "source": [
    "def solution(image_path):\n",
    "    ############################\n",
    "    ############################\n",
    "    image= cv2.imread(image_path)\n",
    "    # show_image(image)\n",
    "    gray = cv2.cvtColor(image, cv2.COLOR_BGR2GRAY)\n",
    "    gray = cv2.bitwise_not(gray)\n",
    "    _, thresh = cv2.threshold(gray, 20, 255, cv2.THRESH_BINARY)\n",
    "    thresh=Closing(thresh)\n",
    "    # show_image(thresh)\n",
    "    \n",
    "    temp = bding_rect(image.copy(),thresh)\n",
    "    if(temp == None):\n",
    "        return 'fake'\n",
    "    img,thresh = temp  \n",
    "\n",
    "    # show_image(img)\n",
    "    # show_image(thresh)\n",
    "\n",
    "    fir,las = non_zero(thresh[-5,:])\n",
    "    mid = round(img.shape[1]/((las+fir)//2),3) \n",
    "    asp_rat = round(img.shape[1]/img.shape[0],3)\n",
    "    # print(\"mid\",mid)\n",
    "    # print(\"white\", dist_white(img[-2,fir+1]))\n",
    "\n",
    "    rav = \"north\" if dist_white(img[-5,fir+5]) <200 else \"south\"\n",
    "\n",
    "    ideal_asp_rat_south = 2.124\n",
    "    ideal_asp_rat_north = 1.637\n",
    "\n",
    "    ideal_mid_south = 2.138\n",
    "    ideal_mid_north = 2.141\n",
    "\n",
    "    if rav==\"south\":\n",
    "        # print(\"mid\", abs(mid-ideal_mid_south))\n",
    "        # print(\"asp\", abs(asp_rat-ideal_asp_rat_south))\n",
    "        if(abs(mid-ideal_mid_south)>0.15 or abs(asp_rat-ideal_asp_rat_south)>0.12):\n",
    "            return\"fake\"\n",
    "    else:\n",
    "        # print(\"mid\", abs(mid-ideal_mid_north))\n",
    "        # print(\"asp\", abs(asp_rat-ideal_asp_rat_north))\n",
    "        if(abs(mid-ideal_mid_north)>0.1 or abs(asp_rat-ideal_asp_rat_north)>0.5):\n",
    "            return\"fake\"\n",
    "\n",
    "        \n",
    "    gray = cv2.cvtColor(img, cv2.COLOR_BGR2GRAY)\n",
    "    gray = cv2.bitwise_not(gray)\n",
    "    # show_image(gray)\n",
    "    if rav==\"north\":\n",
    "        _, thresh = cv2.threshold(gray, 170, 255, cv2.THRESH_BINARY)\n",
    "    else:\n",
    "        _, thresh = cv2.threshold(gray, 230, 255, cv2.THRESH_BINARY)\n",
    "    \n",
    "    # show_image(thresh)\n",
    "\n",
    "    height = thresh.shape[0]\n",
    "    away_pix = np.sum(thresh[height-height//5:height,:])+np.sum(thresh[0:height//5,:])\n",
    "    away_pix/=255\n",
    "    total_pix = np.sum(thresh)/255\n",
    "\n",
    "    if(away_pix==0):\n",
    "        return \"real\"\n",
    "\n",
    "    face_check = total_pix/away_pix\n",
    "    # print(face_check)\n",
    "    if(face_check<100):\n",
    "        return \"fake\"\n",
    "\n",
    "    ############################\n",
    "    ############################\n",
    "    ## comment the line below before submitting else your code wont be executed##\n",
    "    # pass\n",
    "    return \"real\"\n",
    "\n"
   ]
  },
  {
   "cell_type": "code",
   "execution_count": null,
   "metadata": {},
   "outputs": [],
   "source": [
    "print(solution('test/r1.jpg'))"
   ]
  },
  {
   "cell_type": "code",
   "execution_count": null,
   "metadata": {},
   "outputs": [],
   "source": [
    "print(solution('test/r2.jpg'))"
   ]
  },
  {
   "cell_type": "code",
   "execution_count": null,
   "metadata": {},
   "outputs": [],
   "source": [
    "print(solution('test/r3.jpg'))"
   ]
  },
  {
   "cell_type": "code",
   "execution_count": null,
   "metadata": {},
   "outputs": [],
   "source": [
    "print(solution('test/r4.jpg'))"
   ]
  },
  {
   "cell_type": "code",
   "execution_count": null,
   "metadata": {},
   "outputs": [],
   "source": [
    "print(solution('test/r5.jpg'))"
   ]
  },
  {
   "cell_type": "code",
   "execution_count": null,
   "metadata": {},
   "outputs": [],
   "source": [
    "print(solution('test/r6.jpg'))"
   ]
  },
  {
   "cell_type": "code",
   "execution_count": null,
   "metadata": {},
   "outputs": [],
   "source": [
    "print(solution('test/r13.jpg'))"
   ]
  },
  {
   "cell_type": "code",
   "execution_count": null,
   "metadata": {},
   "outputs": [],
   "source": [
    "print(solution('test/r15.jpg'))"
   ]
  }
 ],
 "metadata": {
  "kernelspec": {
   "display_name": "EE604_Assignment_venv",
   "language": "python",
   "name": "python3"
  },
  "language_info": {
   "codemirror_mode": {
    "name": "ipython",
    "version": 3
   },
   "file_extension": ".py",
   "mimetype": "text/x-python",
   "name": "python",
   "nbconvert_exporter": "python",
   "pygments_lexer": "ipython3",
   "version": "3.12.0"
  }
 },
 "nbformat": 4,
 "nbformat_minor": 2
}
