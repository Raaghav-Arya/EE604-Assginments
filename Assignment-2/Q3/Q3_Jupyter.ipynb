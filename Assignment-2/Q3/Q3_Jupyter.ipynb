{
 "cells": [
  {
   "cell_type": "code",
   "execution_count": null,
   "metadata": {},
   "outputs": [],
   "source": [
    "import cv2\n",
    "import numpy as np\n",
    "import matplotlib.pyplot as plt"
   ]
  },
  {
   "cell_type": "code",
   "execution_count": null,
   "metadata": {},
   "outputs": [],
   "source": [
    "def show_image(image):\n",
    "    image_rgb = cv2.cvtColor(image, cv2.COLOR_BGR2RGB)\n",
    "    fig = plt.figure(frameon=False)\n",
    "    plt.imshow(image_rgb)\n",
    "    plt.axis('off')\n",
    "    plt.tight_layout()\n",
    "    plt.show()\n",
    "    "
   ]
  },
  {
   "cell_type": "code",
   "execution_count": null,
   "metadata": {},
   "outputs": [],
   "source": [
    "def Closing(mask):\n",
    "    kernel = cv2.getStructuringElement(cv2.MORPH_RECT, (3,3))\n",
    "    closed_mask = cv2.morphologyEx(mask, cv2.MORPH_CLOSE, kernel)\n",
    "\n",
    "    return closed_mask\n",
    "\n",
    "def bding_rect(img,thresh):\n",
    "    # Rectangle on biggest ravan (Matlab alag se sar hoga to usse include nhi karega)\n",
    "    contours, _ = cv2.findContours(thresh, cv2.RETR_EXTERNAL, cv2.CHAIN_APPROX_SIMPLE)\n",
    "    for contour in contours:\n",
    "        x1, y1, w1, h1 = cv2.boundingRect(contour)\n",
    "    # cv2.rectangle(img, (x, y), (x+w, y+h), (255, 0, 0), 2)\n",
    "\n",
    "    # Rectangle including all ravan heads\n",
    "    merged_contours = np.vstack([contours[i] for i in range(len(contours))])\n",
    "    x, y, w, h = cv2.boundingRect(merged_contours)\n",
    "    # cv2.rectangle(img, (x, y), (x+w, y+h), (255, 0, 0), 2)\n",
    "\n",
    "    if([x,y,w,h] != [x1,y1,w1,h1]):\n",
    "        return None\n",
    "    \n",
    "    cropped_img = img[y:y+h, x:x+w]\n",
    "    thresh = thresh[y:y+h, x:x+w]\n",
    "    # show_image(cropped_img)\n",
    "    # show_image(thresh)\n",
    "\n",
    "    return cropped_img,thresh\n",
    "\n",
    "def non_zero(arr):\n",
    "    first_non_zero_index = np.argmax(arr != 0)\n",
    "    last_non_zero_index = len(arr) - 1 - np.argmax(arr[::-1] != 0)\n",
    "\n",
    "    return first_non_zero_index,last_non_zero_index\n",
    "\n",
    "def dist_white(arr):\n",
    "    return ((arr[0]-255)**2 + (arr[1]-255)**2 + (arr[2]-255)**2)**0.5"
   ]
  },
  {
   "cell_type": "code",
   "execution_count": null,
   "metadata": {},
   "outputs": [],
   "source": [
    "def solution(image_path):\n",
    "    ############################\n",
    "    ############################\n",
    "    image= cv2.imread(image_path)\n",
    "    show_image(image)\n",
    "    gray = cv2.cvtColor(image, cv2.COLOR_BGR2GRAY)\n",
    "    gray = cv2.bitwise_not(gray)\n",
    "    _, thresh = cv2.threshold(gray, 20, 255, cv2.THRESH_BINARY)\n",
    "    thresh=Closing(thresh)\n",
    "    # show_image(thresh)\n",
    "    \n",
    "    temp = bding_rect(image.copy(),thresh)\n",
    "    if(temp == None):\n",
    "        return 'fake'\n",
    "    img,thresh = temp  \n",
    "\n",
    "    # show_image(img)\n",
    "    # show_image(thresh)\n",
    "\n",
    "    fir,las = non_zero(thresh[-5,:])\n",
    "    mid = round(img.shape[1]/((las+fir)//2),3) \n",
    "    asp_rat = round(img.shape[1]/img.shape[0],3)\n",
    "    # print(\"mid\",mid)\n",
    "    # print(\"white\", dist_white(img[-2,fir+1]))\n",
    "\n",
    "    rav = \"north\" if dist_white(img[-5,fir+5]) <200 else \"south\"\n",
    "\n",
    "    ideal_asp_rat_south = 2.124\n",
    "    ideal_asp_rat_north = 1.637\n",
    "\n",
    "    ideal_mid_south = 2.138\n",
    "    ideal_mid_north = 2.141\n",
    "\n",
    "    if rav==\"south\":\n",
    "        # print(\"mid\", abs(mid-ideal_mid_south))\n",
    "        # print(\"asp\", abs(asp_rat-ideal_asp_rat_south))\n",
    "        if(abs(mid-ideal_mid_south)>0.15 or abs(asp_rat-ideal_asp_rat_south)>0.12):\n",
    "            return\"fake\"\n",
    "    else:\n",
    "        # print(\"mid\", abs(mid-ideal_mid_north))\n",
    "        # print(\"asp\", abs(asp_rat-ideal_asp_rat_north))\n",
    "        if(abs(mid-ideal_mid_north)>0.1 or abs(asp_rat-ideal_asp_rat_north)>0.5):\n",
    "            return\"fake\"\n",
    "\n",
    "        \n",
    "    gray = cv2.cvtColor(img, cv2.COLOR_BGR2GRAY)\n",
    "    gray = cv2.bitwise_not(gray)\n",
    "    # show_image(gray)\n",
    "    if rav==\"north\":\n",
    "        _, thresh = cv2.threshold(gray, 170, 255, cv2.THRESH_BINARY)\n",
    "    else:\n",
    "        _, thresh = cv2.threshold(gray, 230, 255, cv2.THRESH_BINARY)\n",
    "    \n",
    "    # show_image(thresh)\n",
    "\n",
    "    height = thresh.shape[0]\n",
    "    away_pix = np.sum(thresh[height-height//5:height,:])+np.sum(thresh[0:height//5,:])\n",
    "    away_pix/=255\n",
    "    total_pix = np.sum(thresh)/255\n",
    "\n",
    "    if(away_pix==0):\n",
    "        return \"real\"\n",
    "\n",
    "    face_check = total_pix/away_pix\n",
    "    # print(face_check)\n",
    "    if(face_check<100):\n",
    "        return \"fake\"\n",
    "\n",
    "    ############################\n",
    "    ############################\n",
    "    ## comment the line below before submitting else your code wont be executed##\n",
    "    # pass\n",
    "    return \"real\"\n",
    "\n"
   ]
  },
  {
   "cell_type": "code",
   "execution_count": null,
   "metadata": {},
   "outputs": [],
   "source": [
    "print(solution('test/r1.jpg'))"
   ]
  },
  {
   "cell_type": "code",
   "execution_count": null,
   "metadata": {},
   "outputs": [],
   "source": [
    "print(solution('test/r2.jpg'))"
   ]
  },
  {
   "cell_type": "code",
   "execution_count": null,
   "metadata": {},
   "outputs": [],
   "source": [
    "print(solution('test/r3.jpg'))"
   ]
  },
  {
   "cell_type": "code",
   "execution_count": null,
   "metadata": {},
   "outputs": [],
   "source": [
    "print(solution('test/r4.jpg'))"
   ]
  },
  {
   "cell_type": "code",
   "execution_count": null,
   "metadata": {},
   "outputs": [],
   "source": [
    "print(solution('test/r5.jpg'))"
   ]
  },
  {
   "cell_type": "code",
   "execution_count": null,
   "metadata": {},
   "outputs": [],
   "source": [
    "print(solution('test/r6.jpg'))"
   ]
  },
  {
   "cell_type": "code",
   "execution_count": null,
   "metadata": {},
   "outputs": [],
   "source": [
    "print(solution('test/r13.jpg'))"
   ]
  },
  {
   "cell_type": "code",
   "execution_count": null,
   "metadata": {},
   "outputs": [],
   "source": [
    "print(solution('test/r15.jpg'))"
   ]
  }
 ],
 "metadata": {
  "kernelspec": {
   "display_name": "EE604_Assignment_venv",
   "language": "python",
   "name": "python3"
  },
  "language_info": {
   "codemirror_mode": {
    "name": "ipython",
    "version": 3
   },
   "file_extension": ".py",
   "mimetype": "text/x-python",
   "name": "python",
   "nbconvert_exporter": "python",
   "pygments_lexer": "ipython3",
   "version": "3.12.0"
  }
 },
 "nbformat": 4,
 "nbformat_minor": 2
}
