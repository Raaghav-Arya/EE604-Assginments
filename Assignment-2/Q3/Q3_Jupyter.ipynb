{
 "cells": [
  {
   "cell_type": "code",
   "execution_count": null,
   "metadata": {},
   "outputs": [],
   "source": [
    "import cv2\n",
    "import numpy as np\n",
    "import matplotlib.pyplot as plt"
   ]
  },
  {
   "cell_type": "code",
   "execution_count": null,
   "metadata": {},
   "outputs": [],
   "source": [
    "def show_image(image):\n",
    "    image_rgb = cv2.cvtColor(image, cv2.COLOR_BGR2RGB)\n",
    "    fig = plt.figure(frameon=False)\n",
    "    plt.imshow(image_rgb)\n",
    "    plt.axis('off')\n",
    "    plt.tight_layout()\n",
    "    plt.show()\n",
    "    "
   ]
  },
  {
   "cell_type": "code",
   "execution_count": null,
   "metadata": {},
   "outputs": [],
   "source": [
    "def Closing(mask):\n",
    "    kernel = cv2.getStructuringElement(cv2.MORPH_RECT, (3,3))\n",
    "    closed_mask = cv2.morphologyEx(mask, cv2.MORPH_CLOSE, kernel)\n",
    "\n",
    "    return closed_mask\n",
    "\n",
    "def bding_rect(img,thresh):\n",
    "    # Rectangle on biggest ravan (Matlab alag se sar hoga to usse include nhi karega)\n",
    "    # contours, _ = cv2.findContours(thresh, cv2.RETR_EXTERNAL, cv2.CHAIN_APPROX_SIMPLE)\n",
    "    # # Iterate over the contours and find the bounding rectangle\n",
    "    # for contour in contours:\n",
    "    #     x, y, w, h = cv2.boundingRect(contour)\n",
    "    # cv2.rectangle(img, (x, y), (x+w, y+h), (255, 0, 0), 2)\n",
    "\n",
    "    # Rectangle including all ravan heads\n",
    "    contours, _ = cv2.findContours(thresh, cv2.RETR_EXTERNAL, cv2.CHAIN_APPROX_SIMPLE)\n",
    "    merged_contours = np.vstack([contours[i] for i in range(len(contours))])\n",
    "\n",
    "    x, y, w, h = cv2.boundingRect(merged_contours)\n",
    "    # cv2.rectangle(img, (x, y), (x+w, y+h), (255, 0, 0), 2)\n",
    "\n",
    "    cropped_img = img[y:y+h, x:x+w]\n",
    "    thresh = thresh[y:y+h, x:x+w]\n",
    "    # show_image(cropped_img)\n",
    "    # show_image(thresh)\n",
    "\n",
    "    return cropped_img,thresh\n",
    "\n",
    "def cnt_helmet(img):\n",
    "    # Find contours in the image\n",
    "    contours, _ = cv2.findContours(img, cv2.RETR_EXTERNAL, cv2.CHAIN_APPROX_SIMPLE)\n",
    "\n",
    "    # Filter contours based on shape\n",
    "    filtered_contours = [cnt for cnt in contours if is_pointed(cnt)]\n",
    "\n",
    "    # The number of helmets is the number of filtered contours\n",
    "    num_helmets = len(filtered_contours)\n",
    "\n",
    "    print(f'Number of helmets: {num_helmets}')\n",
    "\n",
    "    # Create a copy of the image to draw on\n",
    "    img_copy = img.copy()\n",
    "\n",
    "    # Draw the filtered contours on the image\n",
    "    cv2.drawContours(img_copy, filtered_contours, -1, (0,255,0), 3)\n",
    "\n",
    "    show_image(img_copy)"
   ]
  },
  {
   "cell_type": "code",
   "execution_count": null,
   "metadata": {},
   "outputs": [],
   "source": [
    "def solution(image_path):\n",
    "    ############################\n",
    "    ############################\n",
    "    image= cv2.imread(image_path)\n",
    "\n",
    "    # show_image(image)\n",
    "    gray = cv2.cvtColor(image, cv2.COLOR_BGR2GRAY)\n",
    "    gray = cv2.bitwise_not(gray)\n",
    "    # show_image(gray)\n",
    "    _, thresh = cv2.threshold(gray, 20, 255, cv2.THRESH_BINARY)\n",
    "    thresh=Closing(thresh)\n",
    "    # show_image(thresh)\n",
    "    \n",
    "    img,thresh = bding_rect(image.copy(),thresh)\n",
    "    cnt_helmet(thresh)\n",
    "    \n",
    "\n",
    "    ############################\n",
    "    ############################\n",
    "    ## comment the line below before submitting else your code wont be executed##\n",
    "    # pass\n",
    "    class_name = 'fake'\n",
    "    return class_name\n",
    "\n"
   ]
  },
  {
   "cell_type": "code",
   "execution_count": null,
   "metadata": {},
   "outputs": [],
   "source": [
    "print(solution('test/r1.jpg'))"
   ]
  },
  {
   "cell_type": "code",
   "execution_count": null,
   "metadata": {},
   "outputs": [],
   "source": [
    "print(solution('test/r2.jpg'))"
   ]
  },
  {
   "cell_type": "code",
   "execution_count": null,
   "metadata": {},
   "outputs": [],
   "source": [
    "print(solution('test/r3.jpg'))"
   ]
  },
  {
   "cell_type": "code",
   "execution_count": null,
   "metadata": {},
   "outputs": [],
   "source": [
    "print(solution('test/r4.jpg'))"
   ]
  },
  {
   "cell_type": "code",
   "execution_count": null,
   "metadata": {},
   "outputs": [],
   "source": [
    "print(solution('test/r5.jpg'))"
   ]
  },
  {
   "cell_type": "code",
   "execution_count": null,
   "metadata": {},
   "outputs": [],
   "source": [
    "print(solution('test/r6.jpg'))"
   ]
  },
  {
   "cell_type": "code",
   "execution_count": null,
   "metadata": {},
   "outputs": [],
   "source": [
    "print(solution('test/r13.jpg'))"
   ]
  },
  {
   "cell_type": "code",
   "execution_count": null,
   "metadata": {},
   "outputs": [],
   "source": [
    "print(solution('test/r15.jpg'))"
   ]
  }
 ],
 "metadata": {
  "kernelspec": {
   "display_name": "EE604_Assignment_venv",
   "language": "python",
   "name": "python3"
  },
  "language_info": {
   "codemirror_mode": {
    "name": "ipython",
    "version": 3
   },
   "file_extension": ".py",
   "mimetype": "text/x-python",
   "name": "python",
   "nbconvert_exporter": "python",
   "pygments_lexer": "ipython3",
   "version": "3.12.0"
  }
 },
 "nbformat": 4,
 "nbformat_minor": 2
}
