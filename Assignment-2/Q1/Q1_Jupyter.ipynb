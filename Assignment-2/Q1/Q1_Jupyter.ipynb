{
 "cells": [
  {
   "cell_type": "code",
   "execution_count": null,
   "metadata": {},
   "outputs": [],
   "source": [
    "import cv2\n",
    "import numpy as np\n",
    "import matplotlib.pyplot as plt"
   ]
  },
  {
   "cell_type": "code",
   "execution_count": null,
   "metadata": {},
   "outputs": [],
   "source": [
    "def show_image(image):\n",
    "    image_rgb = cv2.cvtColor(image, cv2.COLOR_BGR2RGB)\n",
    "    fig = plt.figure(frameon=False)\n",
    "    plt.imshow(image_rgb)\n",
    "    plt.axis('off')\n",
    "    plt.tight_layout()\n",
    "    plt.show()\n",
    "    "
   ]
  },
  {
   "cell_type": "code",
   "execution_count": null,
   "metadata": {},
   "outputs": [],
   "source": [
    "def Threshold_hsv(image):\n",
    "    hsv = cv2.cvtColor(image, cv2.COLOR_BGR2HSV)\n",
    "    lower_lava = np.array([0,100,100])\n",
    "    upper_lava = np.array([50,255,255])\n",
    "    mask = cv2.inRange(hsv, lower_lava, upper_lava)\n",
    "    _, mask2 = cv2.threshold(mask, 0, 255, cv2.THRESH_BINARY+cv2.THRESH_OTSU)\n",
    "\n",
    "    return mask2\n",
    "\n",
    "def Closing(mask):\n",
    "    kernel = cv2.getStructuringElement(cv2.MORPH_RECT, (10,10))\n",
    "    closed_mask = cv2.morphologyEx(mask, cv2.MORPH_CLOSE, kernel)\n",
    "\n",
    "    return closed_mask\n",
    "\n",
    "def poly_enclose(closed_mask):\n",
    "    contours, _ = cv2.findContours(closed_mask, cv2.RETR_EXTERNAL, cv2.CHAIN_APPROX_SIMPLE)\n",
    "    largest_contour = max(contours, key=cv2.contourArea)\n",
    "    epsilon = 0.0009 * cv2.arcLength(largest_contour, True)\n",
    "    enc_poly = cv2.approxPolyDP(largest_contour, epsilon, True)\n",
    "\n",
    "    return enc_poly\n",
    "\n",
    "def show_contour(img, contour):\n",
    "    ((x, y), radius) = cv2.minEnclosingCircle(contour)\n",
    "    cv2.circle(img, (int(x), int(y)), int(radius), (0, 255, 0), 2)\n",
    "    show_image(img)\n",
    "\n",
    "def find_sun(img):\n",
    "    gray = cv2.cvtColor(img, cv2.COLOR_BGR2GRAY)\n",
    "    blurred = cv2.GaussianBlur(gray, (15, 15), 0)\n",
    "\n",
    "    (minVal, maxVal, minLoc, maxLoc) = cv2.minMaxLoc(blurred)\n",
    "    if(maxVal < 230):\n",
    "        return 0\n",
    "\n",
    "    _, thresholded = cv2.threshold(blurred, maxVal-1, 255, cv2.THRESH_BINARY)\n",
    "\n",
    "    thresholded = cv2.erode(thresholded, None, iterations=2)\n",
    "    thresholded = cv2.dilate(thresholded, None, iterations=4)\n",
    "\n",
    "    contours, _ = cv2.findContours(thresholded.copy(), cv2.RETR_EXTERNAL, cv2.CHAIN_APPROX_SIMPLE)\n",
    "    if(len(contours) == 0):\n",
    "        return 0\n",
    "\n",
    "    # print(maxVal, '#########################')\n",
    "    largest_contour = max(contours, key=cv2.contourArea)\n",
    "\n",
    "    if(cv2.contourArea(largest_contour) < 270):\n",
    "        return 0\n",
    "    # print(cv2.contourArea(largest_contour), '////////////////')\n",
    "    # show_contour(img.copy(), largest_contour)\n",
    "    \n",
    "    return 1"
   ]
  },
  {
   "cell_type": "code",
   "execution_count": null,
   "metadata": {},
   "outputs": [],
   "source": [
    "def solution(image_path):\n",
    "    image = cv2.imread(image_path)\n",
    "    show_image(image)\n",
    "    if(find_sun(image) == 1):\n",
    "        return np.zeros_like(image)\n",
    "    mask = Threshold_hsv(image)\n",
    "    \n",
    "    closed_mask=Closing(mask)\n",
    "\n",
    "    enc_poly = poly_enclose(closed_mask)\n",
    "\n",
    "    # Create a mask with the polygon\n",
    "    polygon_mask = np.zeros_like(closed_mask)\n",
    "    cv2.drawContours(polygon_mask, [enc_poly], -1, 255, thickness=cv2.FILLED)\n",
    "    ret=cv2.cvtColor(polygon_mask,cv2.COLOR_GRAY2RGB)\n",
    "\n",
    "    ######################################################################  \n",
    "    return ret"
   ]
  },
  {
   "cell_type": "code",
   "execution_count": null,
   "metadata": {},
   "outputs": [],
   "source": [
    "show_image(solution('test/sun.jpg'))"
   ]
  },
  {
   "cell_type": "code",
   "execution_count": null,
   "metadata": {},
   "outputs": [],
   "source": [
    "show_image(solution('test/lava2.jpg'))"
   ]
  },
  {
   "cell_type": "code",
   "execution_count": null,
   "metadata": {},
   "outputs": [],
   "source": [
    "show_image(solution('test/lava20.jpg'))"
   ]
  },
  {
   "cell_type": "code",
   "execution_count": null,
   "metadata": {},
   "outputs": [],
   "source": [
    "show_image(solution('test/lava21.jpg'))"
   ]
  },
  {
   "cell_type": "code",
   "execution_count": null,
   "metadata": {},
   "outputs": [],
   "source": [
    "show_image(solution('test/lava31.jpg'))"
   ]
  },
  {
   "cell_type": "code",
   "execution_count": null,
   "metadata": {},
   "outputs": [],
   "source": [
    "show_image(solution('test/lava41.jpg'))"
   ]
  }
 ],
 "metadata": {
  "kernelspec": {
   "display_name": "EE604_Assignment_venv",
   "language": "python",
   "name": "python3"
  },
  "language_info": {
   "codemirror_mode": {
    "name": "ipython",
    "version": 3
   },
   "file_extension": ".py",
   "mimetype": "text/x-python",
   "name": "python",
   "nbconvert_exporter": "python",
   "pygments_lexer": "ipython3",
   "version": "3.12.0"
  }
 },
 "nbformat": 4,
 "nbformat_minor": 2
}
