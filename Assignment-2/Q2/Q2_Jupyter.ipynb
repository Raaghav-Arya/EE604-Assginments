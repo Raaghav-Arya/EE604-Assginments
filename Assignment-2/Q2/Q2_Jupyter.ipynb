{
 "cells": [
  {
   "cell_type": "code",
   "execution_count": 20,
   "metadata": {},
   "outputs": [],
   "source": [
    "import cv2\n",
    "import numpy as np\n",
    "import matplotlib.pyplot as plt\n",
    "import time"
   ]
  },
  {
   "cell_type": "code",
   "execution_count": 21,
   "metadata": {},
   "outputs": [],
   "source": [
    "def show_image(image):\n",
    "    image_rgb = cv2.cvtColor(image, cv2.COLOR_BGR2RGB)\n",
    "    fig = plt.figure(frameon=False)\n",
    "    plt.imshow(image_rgb)\n",
    "    plt.axis('off')\n",
    "    plt.tight_layout()\n",
    "    plt.show()\n",
    "    "
   ]
  },
  {
   "cell_type": "code",
   "execution_count": 22,
   "metadata": {},
   "outputs": [],
   "source": [
    "#Give spatial weights\n",
    "def gsw(i,j,i_min,i_max,j_min,j_max,sigmaSpace):\n",
    "    i_values = i - np.arange(i_min, i_max)[:, np.newaxis]\n",
    "    j_values = j - np.arange(j_min, j_max)[np.newaxis, :]\n",
    "\n",
    "    spatial_weights = np.exp(-((i_values) ** 2 + (j_values) ** 2) / (2 * sigmaSpace ** 2))\n",
    "    return spatial_weights\n",
    "\n",
    "#give intensity weights\n",
    "def giw(neighborhood_i, pixel_i, sigmaColor):\n",
    "    intensity_diff = np.clip(neighborhood_i - pixel_i, -255, 255)\n",
    "    intensity_weights = np.exp(-np.sum(intensity_diff ** 2, axis=2) / (2 * sigmaColor ** 2))\n",
    "\n",
    "    return intensity_weights"
   ]
  },
  {
   "cell_type": "code",
   "execution_count": 23,
   "metadata": {},
   "outputs": [],
   "source": [
    "def bilateral_filter(image_d, image_i, d, sigmaColor, sigmaSpace):\n",
    "    rows, cols, channels = image_d.shape\n",
    "    result = np.zeros_like(image_d, dtype=np.float32)\n",
    "\n",
    "    for i in range(rows):\n",
    "        for j in range(cols):\n",
    "            pixel_d = image_d[i, j].astype(np.float32)\n",
    "            pixel_i= image_i[i, j].astype(np.float32)\n",
    "\n",
    "            i_min, i_max = max(0, i - d), min(rows, i + d + 1)\n",
    "            j_min, j_max = max(0, j - d), min(cols, j + d + 1)\n",
    "\n",
    "            neighborhood_i = image_i[i_min:i_max, j_min:j_max].astype(np.float32)\n",
    "            neighborhood_d = image_d[i_min:i_max, j_min:j_max].astype(np.float32)\n",
    "\n",
    "            spatial_weights = gsw(i,j,i_min,i_max,j_min,j_max,sigmaSpace)\n",
    "            intensity_weights = giw(neighborhood_i, pixel_i, sigmaColor)\n",
    "\n",
    "            weights = spatial_weights * intensity_weights\n",
    "            weights /= np.sum(weights)\n",
    "            \n",
    "            for c in range(channels):\n",
    "                result[i, j, c] = np.sum(weights * neighborhood_d[:, :, c])\n",
    "            \n",
    "    ret = result.astype(np.uint8)\n",
    "    show_image(ret)\n",
    "    return ret"
   ]
  },
  {
   "cell_type": "code",
   "execution_count": 24,
   "metadata": {},
   "outputs": [],
   "source": [
    "def solution(image_path_a, image_path_b):\n",
    "    ############################\n",
    "    ############################\n",
    "    ## image_path_a is path to the non-flash high ISO image\n",
    "    ## image_path_b is path to the flash low ISO image\n",
    "    ############################\n",
    "    ############################\n",
    "    ## comment the line below before submitting else your code wont be executed##\n",
    "    # pass\n",
    "    imagea = cv2.imread(image_path_a)\n",
    "    imageb = cv2.imread(image_path_b)\n",
    "    # print(imagea.shape)\n",
    "    l=imagea.shape[0]\n",
    "    #Hiran 0.0001,7\n",
    "    if(l == 636):\n",
    "        window_size = 5\n",
    "        sigmaColor = 0.0001\n",
    "        sigmaSpace = 7\n",
    "    #Matke 9,5\n",
    "    if(l == 706):\n",
    "        window_size = 9\n",
    "        sigmaColor = 9\n",
    "        sigmaSpace = 5\n",
    "    #Lota 3,15\n",
    "    if(l == 563):\n",
    "        window_size = 6\n",
    "        sigmaColor=1\n",
    "        sigmaSpace=20\n",
    "    #Buddha 2,10\n",
    "    if(l == 574):\n",
    "        window_size = 9\n",
    "        sigmaColor=2\n",
    "        sigmaSpace=10\n",
    "    ret = bilateral_filter(imagea, imageb, window_size, sigmaColor, sigmaSpace)\n",
    " \n",
    "    return ret\n"
   ]
  },
  {
   "cell_type": "code",
   "execution_count": 25,
   "metadata": {},
   "outputs": [
    {
     "name": "stdout",
     "output_type": "stream",
     "text": [
      "(636, 780, 3)\n",
      "0.010993242263793945\n"
     ]
    }
   ],
   "source": [
    "st=time.time()\n",
    "(solution('ultimate_test/1_a.jpg', 'ultimate_test/1_b.jpg'))\n",
    "a=time.time()-st\n",
    "print(a)"
   ]
  },
  {
   "cell_type": "code",
   "execution_count": 26,
   "metadata": {},
   "outputs": [
    {
     "name": "stdout",
     "output_type": "stream",
     "text": [
      "(706, 774, 3)\n",
      "0.01999354362487793\n"
     ]
    }
   ],
   "source": [
    "st=time.time()\n",
    "(solution('ultimate_test/2_a.jpg', 'ultimate_test/2_b.jpg'))\n",
    "b=time.time()-st\n",
    "print(b)"
   ]
  },
  {
   "cell_type": "code",
   "execution_count": 27,
   "metadata": {},
   "outputs": [
    {
     "name": "stdout",
     "output_type": "stream",
     "text": [
      "(563, 789, 3)\n",
      "0.011003732681274414\n"
     ]
    }
   ],
   "source": [
    "st=time.time()\n",
    "(solution('ultimate_test/3_a.jpg', 'ultimate_test/3_b.jpg'))\n",
    "c=time.time()-st\n",
    "print(c)"
   ]
  },
  {
   "cell_type": "code",
   "execution_count": 28,
   "metadata": {},
   "outputs": [
    {
     "name": "stdout",
     "output_type": "stream",
     "text": [
      "(574, 782, 3)\n",
      "0.011001348495483398\n"
     ]
    }
   ],
   "source": [
    "st=time.time()\n",
    "(solution('ultimate_test/4_a.jpg', 'ultimate_test/4_b.jpg'))\n",
    "d=time.time()-st\n",
    "print(d)"
   ]
  },
  {
   "cell_type": "code",
   "execution_count": 29,
   "metadata": {},
   "outputs": [
    {
     "name": "stdout",
     "output_type": "stream",
     "text": [
      "0.05299186706542969\n"
     ]
    }
   ],
   "source": [
    "print(a+b+c+d)"
   ]
  }
 ],
 "metadata": {
  "kernelspec": {
   "display_name": "EE604_Assignment_venv",
   "language": "python",
   "name": "python3"
  },
  "language_info": {
   "codemirror_mode": {
    "name": "ipython",
    "version": 3
   },
   "file_extension": ".py",
   "mimetype": "text/x-python",
   "name": "python",
   "nbconvert_exporter": "python",
   "pygments_lexer": "ipython3",
   "version": "3.12.0"
  }
 },
 "nbformat": 4,
 "nbformat_minor": 2
}
