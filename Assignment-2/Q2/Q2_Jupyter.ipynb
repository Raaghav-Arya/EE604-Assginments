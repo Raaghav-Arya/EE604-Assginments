{
 "cells": [
  {
   "cell_type": "code",
   "execution_count": null,
   "metadata": {},
   "outputs": [],
   "source": [
    "import cv2\n",
    "import numpy as np\n",
    "import matplotlib.pyplot as plt\n",
    "import time"
   ]
  },
  {
   "cell_type": "code",
   "execution_count": null,
   "metadata": {},
   "outputs": [],
   "source": [
    "def show_image(image):\n",
    "    image_rgb = cv2.cvtColor(image, cv2.COLOR_BGR2RGB)\n",
    "    fig = plt.figure(frameon=False)\n",
    "    plt.imshow(image_rgb)\n",
    "    plt.axis('off')\n",
    "    plt.tight_layout()\n",
    "    plt.show()\n",
    "    "
   ]
  },
  {
   "cell_type": "code",
   "execution_count": null,
   "metadata": {},
   "outputs": [],
   "source": [
    "def bilateral_filter(image, d, sigmaColor, sigmaSpace):\n",
    "    rows, cols, channels = image.shape\n",
    "    result = np.zeros_like(image, dtype=np.float32)\n",
    "\n",
    "    for i in range(rows):\n",
    "        for j in range(cols):\n",
    "            pixel = image[i, j].astype(np.float32)\n",
    "\n",
    "            # Define the pixel neighborhood\n",
    "            i_min, i_max = max(0, i - d), min(rows, i + d + 1)\n",
    "            j_min, j_max = max(0, j - d), min(cols, j + d + 1)\n",
    "\n",
    "            # Extract the neighborhood\n",
    "            neighborhood = image[i_min:i_max, j_min:j_max].astype(np.float32)\n",
    "\n",
    "            # Compute Gaussian spatial weights\n",
    "            i_values = i - np.arange(i_min, i_max)[:, np.newaxis]\n",
    "            j_values = j - np.arange(j_min, j_max)[np.newaxis, :]\n",
    "\n",
    "            spatial_weights = np.exp(-((i_values) ** 2 +\n",
    "                                       (j_values) ** 2) / (2 * sigmaSpace ** 2))\n",
    "\n",
    "            # Clip the input values before applying the exp function\n",
    "            intensity_diff = np.clip(neighborhood - pixel, -255, 255)\n",
    "\n",
    "            # Compute Gaussian intensity weights\n",
    "            intensity_weights = np.exp(\n",
    "                -np.sum(intensity_diff ** 2, axis=2) / (2 * sigmaColor ** 2))\n",
    "\n",
    "            # Combine spatial and intensity weights\n",
    "            weights = spatial_weights * intensity_weights\n",
    "\n",
    "            # Normalize the weights\n",
    "            weights /= np.sum(weights)\n",
    "\n",
    "            # Update the pixel value in the result image for each channel\n",
    "            for c in range(channels):\n",
    "                result[i, j, c] = np.sum(weights * neighborhood[:, :, c])\n",
    "\n",
    "    return result.astype(np.uint8)"
   ]
  },
  {
   "cell_type": "code",
   "execution_count": null,
   "metadata": {},
   "outputs": [],
   "source": [
    "def solution(image_path_a, image_path_b):\n",
    "    ############################\n",
    "    ############################\n",
    "    ## image_path_a is path to the non-flash high ISO image\n",
    "    ## image_path_b is path to the flash low ISO image\n",
    "    ############################\n",
    "    ############################\n",
    "    ## comment the line below before submitting else your code wont be executed##\n",
    "    # pass\n",
    "    imagea = cv2.imread(image_path_a)\n",
    "    imageb = cv2.imread(image_path_b)\n",
    "    \n",
    "    bfa= bilateral_filter(imagea,35,25,35)\n",
    "    show_image(imagea)\n",
    "    show_image(bfa)\n",
    "    bfb= bilateral_filter(imageb,35,25,35)\n",
    "    show_image(imageb)\n",
    "    show_image(bfb)\n",
    "        \n",
    "    # return image\n"
   ]
  },
  {
   "cell_type": "code",
   "execution_count": null,
   "metadata": {},
   "outputs": [],
   "source": [
    "st=time.time()\n",
    "(solution('ultimate_test/1_a.jpg', 'ultimate_test/1_b.jpg'))\n",
    "a=time.time()-st\n",
    "print(a)"
   ]
  },
  {
   "cell_type": "code",
   "execution_count": null,
   "metadata": {},
   "outputs": [],
   "source": [
    "st=time.time()\n",
    "(solution('ultimate_test/2_a.jpg', 'ultimate_test/2_b.jpg'))\n",
    "b=time.time()-st\n",
    "print(b)"
   ]
  },
  {
   "cell_type": "code",
   "execution_count": null,
   "metadata": {},
   "outputs": [],
   "source": [
    "st=time.time()\n",
    "(solution('ultimate_test/3_a.jpg', 'ultimate_test/3_b.jpg'))\n",
    "c=time.time()-st\n",
    "print(c)"
   ]
  },
  {
   "cell_type": "code",
   "execution_count": null,
   "metadata": {},
   "outputs": [],
   "source": [
    "st=time.time()\n",
    "(solution('ultimate_test/4_a.jpg', 'ultimate_test/4_b.jpg'))\n",
    "d=time.time()-st\n",
    "print(d)"
   ]
  },
  {
   "cell_type": "code",
   "execution_count": null,
   "metadata": {},
   "outputs": [],
   "source": [
    "print(a+b+c+d)"
   ]
  }
 ],
 "metadata": {
  "kernelspec": {
   "display_name": "EE604_Assignment_venv",
   "language": "python",
   "name": "python3"
  },
  "language_info": {
   "codemirror_mode": {
    "name": "ipython",
    "version": 3
   },
   "file_extension": ".py",
   "mimetype": "text/x-python",
   "name": "python",
   "nbconvert_exporter": "python",
   "pygments_lexer": "ipython3",
   "version": "3.12.0"
  }
 },
 "nbformat": 4,
 "nbformat_minor": 2
}
