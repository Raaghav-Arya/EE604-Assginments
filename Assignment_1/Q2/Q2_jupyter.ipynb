{
 "cells": [
  {
   "cell_type": "code",
   "execution_count": 192,
   "metadata": {},
   "outputs": [],
   "source": [
    "import cv2\n",
    "import numpy as np\n",
    "np.set_printoptions(threshold=np.inf)\n",
    "import librosa as lr\n",
    "import matplotlib.pyplot as plt"
   ]
  },
  {
   "cell_type": "code",
   "execution_count": 193,
   "metadata": {},
   "outputs": [],
   "source": [
    "def show_plot(matrix):\n",
    "    plt.imshow(matrix, aspect='auto')\n",
    "    plt.colorbar()\n",
    "    plt.show()\n",
    "\n",
    "def show_image(matrix):\n",
    "    plt.imshow(matrix, cmap='gray') \n",
    "    plt.show()\n",
    "    # print(\"Done\")"
   ]
  },
  {
   "cell_type": "code",
   "execution_count": 194,
   "metadata": {},
   "outputs": [],
   "source": [
    "def solution(audio_path):\n",
    "    ############################\n",
    "    ############################\n",
    "\n",
    "    y,sr = lr.load(audio_path, sr=None)\n",
    "\n",
    "    n_fft = 2048\n",
    "    hop_length = 512\n",
    "\n",
    "    mat = lr.feature.melspectrogram(y=y, sr=sr, n_fft=n_fft, hop_length=hop_length, fmax=8000)\n",
    "    # mat = lr.power_to_db(mat)\n",
    "    # show_plot(mat)\n",
    "\n",
    "    thresh_val, thresh = cv2.threshold(mat, 10, 255, cv2.THRESH_BINARY)\n",
    "    # show_image(thresh)\n",
    "\n",
    "    # print(thresh)\n",
    "\n",
    "    weighted_sum = 0\n",
    "    pts = 0\n",
    "\n",
    "    for i in range(mat.shape[0]):\n",
    "        for j in range(mat.shape[1]):\n",
    "            if thresh[i][j] == 255:\n",
    "                weighted_sum += i**2\n",
    "                pts += 1\n",
    "    \n",
    "    weighted_mean = (weighted_sum/pts)\n",
    "    # print(weighted_mean)\n",
    "\n",
    "    if weighted_mean > 1200:\n",
    "        return 'metal_banging'\n",
    "    else:\n",
    "        return 'cardboard'\n",
    "\n",
    "    ## AMPLITUDE PLOT\n",
    "    # plt.plot(y)\n",
    "    # plt.show()\n",
    "\n",
    "\n",
    "\n",
    "\n",
    "    ############################\n",
    "    ############################\n",
    "    ## comment the line below before submitting else your code wont be executed##\n",
    "    # pass\n",
    "    # class_name = 'cardboard'\n",
    "    # return class_name"
   ]
  },
  {
   "cell_type": "code",
   "execution_count": 195,
   "metadata": {},
   "outputs": [
    {
     "data": {
      "text/plain": [
       "'cardboard'"
      ]
     },
     "execution_count": 195,
     "metadata": {},
     "output_type": "execute_result"
    }
   ],
   "source": [
    "solution('test/cardboard1.mp3')"
   ]
  },
  {
   "cell_type": "code",
   "execution_count": 196,
   "metadata": {},
   "outputs": [
    {
     "data": {
      "text/plain": [
       "'cardboard'"
      ]
     },
     "execution_count": 196,
     "metadata": {},
     "output_type": "execute_result"
    }
   ],
   "source": [
    "solution('test/cardboard2.mp3')"
   ]
  },
  {
   "cell_type": "code",
   "execution_count": 197,
   "metadata": {},
   "outputs": [
    {
     "data": {
      "text/plain": [
       "'metal_banging'"
      ]
     },
     "execution_count": 197,
     "metadata": {},
     "output_type": "execute_result"
    }
   ],
   "source": [
    "solution('test/metal_banging1.mp3')"
   ]
  },
  {
   "cell_type": "code",
   "execution_count": 198,
   "metadata": {},
   "outputs": [
    {
     "data": {
      "text/plain": [
       "'metal_banging'"
      ]
     },
     "execution_count": 198,
     "metadata": {},
     "output_type": "execute_result"
    }
   ],
   "source": [
    "solution('test/metal_banging2.mp3')"
   ]
  }
 ],
 "metadata": {
  "kernelspec": {
   "display_name": "Python 3",
   "language": "python",
   "name": "python3"
  },
  "language_info": {
   "codemirror_mode": {
    "name": "ipython",
    "version": 3
   },
   "file_extension": ".py",
   "mimetype": "text/x-python",
   "name": "python",
   "nbconvert_exporter": "python",
   "pygments_lexer": "ipython3",
   "version": "3.11.5"
  },
  "orig_nbformat": 4
 },
 "nbformat": 4,
 "nbformat_minor": 2
}
